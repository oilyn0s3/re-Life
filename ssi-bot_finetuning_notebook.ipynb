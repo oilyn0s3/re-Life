{
 "cells": [
  {
   "cell_type": "code",
   "execution_count": null,
   "metadata": {
    "id": "_eMkX7AoVlpG"
   },
   "outputs": [],
   "source": [
    "\n",
    "!python -m pip install git+https://github.com/zacc/simpletransformers.git@01ed37e471234ec3266fda2101ce61f4e88e47bb\n",
    "\n",
    "# Output which type of GPU Colab has bestowed upon us\n",
    "!nvidia-smi"
   ]
  },
  {
   "cell_type": "code",
   "execution_count": null,
   "metadata": {
    "id": "qtCFofMoYYtY"
   },
   "outputs": [],
   "source": [
    "training_file = \"bot_27102020_train.txt\"\n",
    "eval_file = \"bot_27102020_eval.txt\""
   ]
  },
  {
   "cell_type": "code",
   "execution_count": null,
   "metadata": {
    "id": "btGNo-A4-b6-"
   },
   "outputs": [],
   "source": [
    "from google.colab import drive\n",
    "drive.mount('/content/drive')"
   ]
  },
  {
   "cell_type": "code",
   "execution_count": null,
   "metadata": {
    "id": "T2xgnRCk-fwu"
   },
   "outputs": [],
   "source": [
    "full_path = '/content/drive/My Drive/' + training_file\n",
    "!cp \"$full_path\" \"/content\"\n",
    "\n",
    "full_path = '/content/drive/My Drive/' + eval_file\n",
    "!cp \"$full_path\" \"/content\""
   ]
  },
  {
   "cell_type": "code",
   "execution_count": null,
   "metadata": {
    "id": "7C_y3YXyZR-e"
   },
   "outputs": [],
   "source": [
    "bot_label = 'bot_27102020'"
   ]
  },
  {
   "cell_type": "code",
   "execution_count": null,
   "metadata": {
    "id": "moPPDrgjf0Z6"
   },
   "outputs": [],
   "source": [
    "from simpletransformers.language_modeling import LanguageModelingModel\n",
    "import torch\n",
    "import os\n",
    "\n",
    "\n",
    "# Switch to the Google Drive directory\n",
    "%cd \"/content/drive/My Drive/\"\n",
    "\n",
    "args = {\n",
    "    \"overwrite_output_dir\": True,\n",
    "    \"learning_rate\": 1e-4,\n",
    "    \"gradient_accumulation_steps\": 1,\n",
    "    \"dataset_type\": \"simple\",\n",
    "    \"sliding_window\": True,\n",
    "    \"max_seq_length\": 512,\n",
    "\t\"mlm\": False, # has to be false for gpt-2\n",
    "\n",
    "    \"evaluate_during_training\": True,\n",
    "    \"use_cached_eval_features\": True,\n",
    "    \"evaluate_during_training_verbose\": True,\n",
    "    \"save_optimizer_and_scheduler\": False,\n",
    "    \"save_eval_checkpoints\": True,\n",
    "    \"save_model_every_epoch\": False,\n",
    "    \"save_steps\": -1, \n",
    "\n",
    "    \"output_dir\": f\"{bot_label}/\",\n",
    "\t\t\"best_model_dir\": f\"{bot_label}/best_model\",\n",
    "}\n",
    "\n",
    "if 'K80' in torch.cuda.get_device_name(0):\n",
    "\n",
    "  args['train_batch_size'] = 1\n",
    "\n",
    "  args['num_train_epochs'] = 6\n",
    "  args[\"gradient_accumulation_steps\"] = 100\n",
    "\n",
    "  args[\"evaluate_during_training_steps\"] = int(3000 / args[\"gradient_accumulation_steps\"])\n",
    "\n",
    "elif 'T4' in torch.cuda.get_device_name(0):\n",
    "\n",
    "  args['train_batch_size'] = 8\n",
    "  args[\"max_steps\"] = 12000\n",
    "  args[\"evaluate_during_training_steps\"] = 3000\n",
    "\n",
    "\n",
    "resume_training_path = f\"/content/drive/MyDrive/{bot_label}/best_model/\"\n",
    "\n",
    "if os.path.exists(resume_training_path):\n",
    "    \n",
    "    args['output_dir'] = resume_training_path\n",
    "    args['best_model_dir'] = f\"{resume_training_path}/resume_best_model/\"\n",
    "    model = LanguageModelingModel(\"gpt2\", resume_training_path, args=args)\n",
    "\n",
    "else:\n",
    "  # Create a new model\n",
    "  model = LanguageModelingModel(\"gpt2\", \"gpt2\")\n",
    "\n",
    "model.train_model(train_file=training_file, eval_file=eval_file, args=args, verbose=True)"
   ]
  }
 ],
 "metadata": {
  "accelerator": "GPU",
  "colab": {
   "collapsed_sections": [],
   "name": "SubSimGPT2Interactive simpletransformers GPT-2 Finetuning Notebook",
   "provenance": []
  },
  "kernelspec": {
   "display_name": "Python 3 (ipykernel)",
   "language": "python",
   "name": "python3"
  },
  "language_info": {
   "codemirror_mode": {
    "name": "ipython",
    "version": 3
   },
   "file_extension": ".py",
   "mimetype": "text/x-python",
   "name": "python",
   "nbconvert_exporter": "python",
   "pygments_lexer": "ipython3",
   "version": "3.9.12"
  }
 },
 "nbformat": 4,
 "nbformat_minor": 1
}
